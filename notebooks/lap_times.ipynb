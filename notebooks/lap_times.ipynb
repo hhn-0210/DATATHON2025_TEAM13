{
 "cells": [
  {
   "cell_type": "code",
   "execution_count": 64,
   "id": "4a371758",
   "metadata": {},
   "outputs": [
    {
     "name": "stdout",
     "output_type": "stream",
     "text": [
      "Columns: ['CIRCUITID', 'CIRCUITREF', 'NAME', 'LOCATION', 'COUNTRY', 'LAT', 'LNG', 'ALT', 'URL']\n",
      "Columns: ['CONSTRUCTORRESULTSID', 'RACEID', 'CONSTRUCTORID', 'POINTS', 'STATUS']\n",
      "Columns: ['CONSTRUCTORSTANDINGSID', 'RACEID', 'CONSTRUCTORID', 'POINTS', 'POSITION', 'POSITIONTEXT', 'WINS']\n",
      "Columns: ['CONSTRUCTORID', 'CONSTRUCTORREF', 'NAME', 'NATIONALITY', 'URL']\n",
      "Columns: ['DRIVERSTANDINGSID', 'RACEID', 'DRIVERID', 'POINTS', 'POSITION', 'POSITIONTEXT', 'WINS']\n",
      "Columns: ['DRIVERID', 'DRIVERREF', 'NUMBER', 'CODE', 'FORENAME', 'SURNAME', 'DOB', 'NATIONALITY', 'URL']\n",
      "Columns: ['RACEID', 'DRIVERID', 'LAP', 'POSITION', 'TIME', 'MILLISECONDS']\n",
      "Columns: ['RACEID', 'DRIVERID', 'STOP', 'LAP', 'TIME', 'DURATION', 'MILLISECONDS']\n",
      "Columns: ['QUALIFYID', 'RACEID', 'DRIVERID', 'CONSTRUCTORID', 'NUMBER', 'POSITION', 'Q1', 'Q2', 'Q3']\n",
      "Columns: ['RACEID', 'YEAR', 'ROUND', 'CIRCUITID', 'NAME', 'DATE', 'TIME', 'URL', 'FP1_DATE', 'FP1_TIME', 'FP2_DATE', 'FP2_TIME', 'FP3_DATE', 'FP3_TIME', 'QUALI_DATE', 'QUALI_TIME', 'SPRINT_DATE', 'SPRINT_TIME']\n",
      "Columns: ['RESULTID', 'RACEID', 'DRIVERID', 'CONSTRUCTORID', 'NUMBER', 'GRID', 'POSITION', 'POSITIONTEXT', 'POSITIONORDER', 'POINTS', 'LAPS', 'TIME', 'MILLISECONDS', 'FASTESTLAP', 'RANK', 'FASTESTLAPTIME', 'FASTESTLAPSPEED', 'STATUSID']\n",
      "Columns: ['YEAR', 'URL']\n",
      "Columns: ['RESULTID', 'RACEID', 'DRIVERID', 'CONSTRUCTORID', 'NUMBER', 'GRID', 'POSITION', 'POSITIONTEXT', 'POSITIONORDER', 'POINTS', 'LAPS', 'TIME', 'MILLISECONDS', 'FASTESTLAP', 'FASTESTLAPTIME', 'STATUSID']\n",
      "Columns: ['STATUSID', 'STATUS']\n"
     ]
    }
   ],
   "source": [
    "# Load required pacakges\n",
    "import pandas as pd\n",
    "\n",
    "dataset = \"../TEAM13_F1_DATASET\"\n",
    "\n",
    "#Load the datasets\n",
    "circuits       = pd.read_csv(f\"{dataset}/CIRCUITS.csv\")\n",
    "c_results      = pd.read_csv(f\"{dataset}/CONSTRUCTOR_RESULTS.csv\")\n",
    "c_standings    = pd.read_csv(f\"{dataset}/CONSTRUCTOR_STANDINGS.csv\")\n",
    "constructors   = pd.read_csv(f\"{dataset}/CONSTRUCTORS.csv\")\n",
    "d_standings    = pd.read_csv(f\"{dataset}/DRIVER_STANDINGS.csv\")\n",
    "drivers        = pd.read_csv(f\"{dataset}/DRIVERS.csv\")\n",
    "lap_times      = pd.read_csv(f\"{dataset}/LAP_TIMES.csv\")\n",
    "pit_stops      = pd.read_csv(f\"{dataset}/PIT_STOPS.csv\")\n",
    "qualifying     = pd.read_csv(f\"{dataset}/QUALIFYING.csv\")\n",
    "races          = pd.read_csv(f\"{dataset}/RACES.csv\")\n",
    "results        = pd.read_csv(f\"{dataset}/RESULTS.csv\")\n",
    "seasons        = pd.read_csv(f\"{dataset}/SEASONS.csv\")\n",
    "sprint_results = pd.read_csv(f\"{dataset}/SPRINT_RESULTS.csv\")\n",
    "status         = pd.read_csv(f\"{dataset}/STATUS.csv\")\n",
    "\n",
    "datasets = [\n",
    "    circuits,\n",
    "    c_results,\n",
    "    c_standings,\n",
    "    constructors,\n",
    "    d_standings,\n",
    "    drivers,\n",
    "    lap_times,\n",
    "    pit_stops,\n",
    "    qualifying,\n",
    "    races,\n",
    "    results,\n",
    "    seasons,\n",
    "    sprint_results,\n",
    "    status\n",
    "]\n",
    "\n",
    "for d in datasets:\n",
    "    print(f\"Columns: {d.columns.tolist()}\")"
   ]
  },
  {
   "cell_type": "code",
   "execution_count": null,
   "id": "4add3503",
   "metadata": {},
   "outputs": [
    {
     "name": "stdout",
     "output_type": "stream",
     "text": [
      "   RESULTID  RACEID  DRIVERID  CONSTRUCTORID  NUMBER  GRID  POSITION  \\\n",
      "0         1      18         1              1    22.0     1       1.0   \n",
      "1         2      18         2              2     3.0     5       2.0   \n",
      "2         3      18         3              3     7.0     7       3.0   \n",
      "3         4      18         4              4     5.0    11       4.0   \n",
      "4         5      18         5              1    23.0     3       5.0   \n",
      "\n",
      "  POSITIONTEXT  POSITIONORDER  POINTS  LAPS         TIME  MILLISECONDS  \\\n",
      "0            1              1      10    58  1:34:50.616     5690616.0   \n",
      "1            2              2       8    58       +5.478     5696094.0   \n",
      "2            3              3       6    58       +8.163     5698779.0   \n",
      "3            4              4       5    58      +17.181     5707797.0   \n",
      "4            5              5       4    58      +18.014     5708630.0   \n",
      "\n",
      "   FASTESTLAP  RANK FASTESTLAPTIME  FASTESTLAPSPEED  STATUSID  \n",
      "0        39.0   2.0       1:27.452          218.300         1  \n",
      "1        41.0   3.0       1:27.739          217.586         1  \n",
      "2        41.0   5.0       1:28.090          216.719         1  \n",
      "3        58.0   7.0       1:28.603          215.464         1  \n",
      "4        43.0   1.0       1:27.418          218.385         1  \n"
     ]
    },
    {
     "name": "stderr",
     "output_type": "stream",
     "text": [
      "C:\\Users\\katrina.tang\\AppData\\Local\\Temp\\ipykernel_27340\\812778539.py:4: SettingWithCopyWarning: \n",
      "A value is trying to be set on a copy of a slice from a DataFrame.\n",
      "Try using .loc[row_indexer,col_indexer] = value instead\n",
      "\n",
      "See the caveats in the documentation: https://pandas.pydata.org/pandas-docs/stable/user_guide/indexing.html#returning-a-view-versus-a-copy\n",
      "  results_c[\"POINTS\"] = results_c[\"POINTS\"].astype(int)\n"
     ]
    }
   ],
   "source": [
    "#Cleanse data\n",
    "results_m = results.isnull().sum()\n",
    "results_c = results.dropna(subset=[\"MILLISECONDS\"])\n",
    "results_c[\"POINTS\"] = results_c[\"POINTS\"].astype(int)\n",
    "results_c[\"POSITION\"] = results_c[\"POSITION\"].astype(int)\n",
    "\n",
    "print(results_c.head())"
   ]
  },
  {
   "cell_type": "code",
   "execution_count": 75,
   "id": "a42ccf43",
   "metadata": {},
   "outputs": [
    {
     "name": "stdout",
     "output_type": "stream",
     "text": [
      "     DRIVERID  POINTS\n",
      "0           1    4816\n",
      "1           2     225\n",
      "2           3    1562\n",
      "3           4    2252\n",
      "4           5      98\n",
      "..        ...     ...\n",
      "326       857     346\n",
      "327       858       1\n",
      "328       859       6\n",
      "329       860       7\n",
      "330       861       5\n",
      "\n",
      "[331 rows x 2 columns]\n"
     ]
    }
   ],
   "source": [
    "#Merge and remove DNF\n",
    "rs = pd.merge(results_c, status, on=\"STATUSID\")\n",
    "\n",
    "grouped = rs.groupby('DRIVERID')['POINTS'].sum().reset_index()\n",
    "print(grouped)"
   ]
  }
 ],
 "metadata": {
  "kernelspec": {
   "display_name": ".venv",
   "language": "python",
   "name": "python3"
  },
  "language_info": {
   "codemirror_mode": {
    "name": "ipython",
    "version": 3
   },
   "file_extension": ".py",
   "mimetype": "text/x-python",
   "name": "python",
   "nbconvert_exporter": "python",
   "pygments_lexer": "ipython3",
   "version": "3.13.3"
  }
 },
 "nbformat": 4,
 "nbformat_minor": 5
}
